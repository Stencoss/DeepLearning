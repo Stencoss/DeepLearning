{
 "cells": [
  {
   "cell_type": "markdown",
   "metadata": {},
   "source": [
    "# Analysis\n",
    "\n",
    "* IS_SUCCESSFUL is the target for the model.\n",
    "* Everything besides IS_SUCCESSFUL are the features\n",
    "* The NAME and EIN were removed from the features and target while processing the data\n",
    "* I went with the more is better approach.  I used 200 neurons and 2 layers.\n",
    "* Even with the steady increase in neurons and epochs I was not able to beat the 75%\n",
    "* The steps I took were increasing the neurons and epochs, removing columns that I thought were \n",
    "  not adding to the data, and changing the activation types away from relu.  After all of the \n",
    "  adjustments I was still not able to beat the 75%."
   ]
  }
 ],
 "metadata": {
  "language_info": {
   "name": "python"
  },
  "orig_nbformat": 4
 },
 "nbformat": 4,
 "nbformat_minor": 2
}
